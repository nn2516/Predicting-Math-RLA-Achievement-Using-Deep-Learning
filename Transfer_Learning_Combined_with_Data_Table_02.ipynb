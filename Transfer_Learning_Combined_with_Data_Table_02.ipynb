{
 "cells": [
  {
   "cell_type": "code",
   "execution_count": null,
   "metadata": {},
   "outputs": [],
   "source": [
    "# in this version, i will combine output of CNN regression models with the demographic data\n",
    "# CNN model I am currently using is:\n",
    "# \"elementary_227_227_zoom_16_regression_2022_12_31_hidden_32_relu.h5\"\n",
    "# from Transfer_Learning_final_project_06\n",
    "# Xception with 128 batch size, 100 epochs, 32 hidden tanh units\n",
    "# training MSE = 0.1398, R^2 = 0.2211\n",
    "# validation MSE = 0.1423, R^2 = 0.1517\n",
    "# testing R = 0.4257, R^2 = 0.1812\n"
   ]
  },
  {
   "cell_type": "code",
   "execution_count": 1,
   "metadata": {
    "id": "VeZBnn9VBVTy"
   },
   "outputs": [],
   "source": [
    "import tensorflow as tf\n",
    "from tensorflow import keras\n",
    "from tensorflow.keras import layers\n",
    "from keras.models import Sequential, load_model\n",
    "import keras_tuner\n",
    "import numpy as np\n",
    "import matplotlib.pyplot as plt\n",
    "import pandas as pd\n",
    "from fitter import Fitter, get_common_distributions, get_distributions\n",
    "import random"
   ]
  },
  {
   "cell_type": "code",
   "execution_count": 2,
   "metadata": {},
   "outputs": [],
   "source": [
    "# load csv\n",
    "Data = pd.read_csv(\"C:\\\\Users\\\\Joe\\\\Box\\\\Wesley\\\\Learning Analytics\\\\HUDK 4050\\\\Final\\\\Data\\\\Data_Table_11_elementary.csv\")\n",
    "N = np.shape(Data)[0]"
   ]
  },
  {
   "cell_type": "code",
   "execution_count": 3,
   "metadata": {},
   "outputs": [],
   "source": [
    "# load images\n",
    "folderpath = \"C:\\\\Users\\\\Joe\\\\Box\\\\Wesley\\\\Learning Analytics\\\\HUDK 4050\\\\Final\\\\Data\\\\google_maps_satellite_227_227_16_elementary\\\\\"\n",
    "img_height = 227\n",
    "img_width = 227\n",
    "Images = np.zeros(shape = (N, img_height, img_width, 3))\n",
    "TestScores = Data.cs_mn_avg_ol\n",
    "for i in range(N):\n",
    "    id = Data.school_code[i]\n",
    "    im = tf.keras.utils.load_img(folderpath + \"school_\" + str(id) + \".jpg\",\n",
    "                                 grayscale=False, color_mode=\"rgb\")\n",
    "    Images[i,:,:,:] = im"
   ]
  },
  {
   "cell_type": "code",
   "execution_count": 4,
   "metadata": {},
   "outputs": [
    {
     "name": "stdout",
     "output_type": "stream",
     "text": [
      "18939\n",
      "(14204, 227, 227, 3)\n",
      "(14204,)\n",
      "(2841, 227, 227, 3)\n",
      "(2841,)\n",
      "(1894, 227, 227, 3)\n",
      "(1894,)\n",
      "[14690  1444   351 18769  5916]\n"
     ]
    }
   ],
   "source": [
    "# load training, validation, testing indices\n",
    "data = np.load('elementary_227_227_zoom_16_regression_2022_12_31_hidden_32_relu_variables.npz')\n",
    "ind = data['ind']\n",
    "ind_train = data['ind_train']\n",
    "ind_val = data['ind_val']\n",
    "ind_test = data['ind_test']\n",
    "mse_train = data['mse_train']\n",
    "mse_val = data['mse_val']\n",
    "del data\n",
    "\n",
    "x_train = Images[ind_train,:,:,:]\n",
    "y_train = TestScores[ind_train]\n",
    "x_val = Images[ind_val,:,:,:]\n",
    "y_val = TestScores[ind_val]\n",
    "x_test = Images[ind_test,:,:,:]\n",
    "y_test = TestScores[ind_test]\n",
    "\n",
    "print(N)\n",
    "print(np.shape(x_train))\n",
    "print(np.shape(y_train))\n",
    "print(np.shape(x_val))\n",
    "print(np.shape(y_val))\n",
    "print(np.shape(x_test))\n",
    "print(np.shape(y_test))\n",
    "print(ind[0:5]) # should be [14690  1444   351 18769  5916]"
   ]
  },
  {
   "cell_type": "code",
   "execution_count": 5,
   "metadata": {},
   "outputs": [
    {
     "name": "stdout",
     "output_type": "stream",
     "text": [
      "WARNING:tensorflow:Using a while_loop for converting RngReadAndSkip\n",
      "WARNING:tensorflow:Using a while_loop for converting Bitcast\n",
      "WARNING:tensorflow:Using a while_loop for converting Bitcast\n",
      "WARNING:tensorflow:Using a while_loop for converting StatelessRandomUniformV2\n"
     ]
    }
   ],
   "source": [
    "# load model\n",
    "model = load_model('elementary_227_227_zoom_16_regression_2022_12_31_hidden_32_relu.h5')"
   ]
  },
  {
   "cell_type": "code",
   "execution_count": 7,
   "metadata": {},
   "outputs": [],
   "source": [
    "# load predictions\n",
    "data = np.load('Transfer_Learning_Combined_with_Data_Table_01_predictions.npz')\n",
    "y_train_pred = data['y_train_pred']\n",
    "h_train_pred = data['h_train_pred']\n",
    "y_val_pred = data['y_val_pred']\n",
    "h_val_pred = data['h_val_pred']\n",
    "y_test_pred = data['y_test_pred']\n",
    "h_test_pred = data['h_test_pred']\n",
    "del data"
   ]
  },
  {
   "cell_type": "code",
   "execution_count": 15,
   "metadata": {},
   "outputs": [
    {
     "data": {
      "text/plain": [
       "(1894, 32)"
      ]
     },
     "execution_count": 15,
     "metadata": {},
     "output_type": "execute_result"
    }
   ],
   "source": [
    "np.shape(h_test_pred)"
   ]
  },
  {
   "cell_type": "code",
   "execution_count": 16,
   "metadata": {},
   "outputs": [
    {
     "name": "stderr",
     "output_type": "stream",
     "text": [
      "C:\\Users\\Joe\\anaconda3\\envs\\HUDK_4050_final_project\\lib\\site-packages\\ipykernel_launcher.py:3: SettingWithCopyWarning: \n",
      "A value is trying to be set on a copy of a slice from a DataFrame\n",
      "\n",
      "See the caveats in the documentation: https://pandas.pydata.org/pandas-docs/stable/user_guide/indexing.html#returning-a-view-versus-a-copy\n",
      "  This is separate from the ipykernel package so we can avoid doing imports until\n",
      "C:\\Users\\Joe\\anaconda3\\envs\\HUDK_4050_final_project\\lib\\site-packages\\ipykernel_launcher.py:5: SettingWithCopyWarning: \n",
      "A value is trying to be set on a copy of a slice from a DataFrame\n",
      "\n",
      "See the caveats in the documentation: https://pandas.pydata.org/pandas-docs/stable/user_guide/indexing.html#returning-a-view-versus-a-copy\n",
      "  \"\"\"\n",
      "C:\\Users\\Joe\\anaconda3\\envs\\HUDK_4050_final_project\\lib\\site-packages\\ipykernel_launcher.py:7: SettingWithCopyWarning: \n",
      "A value is trying to be set on a copy of a slice from a DataFrame\n",
      "\n",
      "See the caveats in the documentation: https://pandas.pydata.org/pandas-docs/stable/user_guide/indexing.html#returning-a-view-versus-a-copy\n",
      "  import sys\n"
     ]
    }
   ],
   "source": [
    "# add ind to data frame\n",
    "Data['ind_train'] =  np.zeros(shape = np.shape(ind))\n",
    "Data['ind_train'][ind_train] = 1\n",
    "Data['ind_val'] =  np.zeros(shape = np.shape(ind))\n",
    "Data['ind_val'][ind_val] = 1\n",
    "Data['ind_test'] =  np.zeros(shape = np.shape(ind))\n",
    "Data['ind_test'][ind_test] = 1"
   ]
  },
  {
   "cell_type": "code",
   "execution_count": 18,
   "metadata": {},
   "outputs": [
    {
     "name": "stderr",
     "output_type": "stream",
     "text": [
      "C:\\Users\\Joe\\anaconda3\\envs\\HUDK_4050_final_project\\lib\\site-packages\\ipykernel_launcher.py:3: SettingWithCopyWarning: \n",
      "A value is trying to be set on a copy of a slice from a DataFrame\n",
      "\n",
      "See the caveats in the documentation: https://pandas.pydata.org/pandas-docs/stable/user_guide/indexing.html#returning-a-view-versus-a-copy\n",
      "  This is separate from the ipykernel package so we can avoid doing imports until\n",
      "C:\\Users\\Joe\\anaconda3\\envs\\HUDK_4050_final_project\\lib\\site-packages\\ipykernel_launcher.py:4: SettingWithCopyWarning: \n",
      "A value is trying to be set on a copy of a slice from a DataFrame\n",
      "\n",
      "See the caveats in the documentation: https://pandas.pydata.org/pandas-docs/stable/user_guide/indexing.html#returning-a-view-versus-a-copy\n",
      "  after removing the cwd from sys.path.\n",
      "C:\\Users\\Joe\\anaconda3\\envs\\HUDK_4050_final_project\\lib\\site-packages\\ipykernel_launcher.py:5: SettingWithCopyWarning: \n",
      "A value is trying to be set on a copy of a slice from a DataFrame\n",
      "\n",
      "See the caveats in the documentation: https://pandas.pydata.org/pandas-docs/stable/user_guide/indexing.html#returning-a-view-versus-a-copy\n",
      "  \"\"\"\n"
     ]
    }
   ],
   "source": [
    "# add predictions to data frame\n",
    "Data['cs_mn_avg_cnn_pred'] = np.zeros(shape = np.shape(ind))\n",
    "Data['cs_mn_avg_cnn_pred'][ind_train] = y_train_pred\n",
    "Data['cs_mn_avg_cnn_pred'][ind_val] = y_val_pred\n",
    "Data['cs_mn_avg_cnn_pred'][ind_test] = y_test_pred"
   ]
  },
  {
   "cell_type": "code",
   "execution_count": 24,
   "metadata": {},
   "outputs": [
    {
     "name": "stderr",
     "output_type": "stream",
     "text": [
      "C:\\Users\\Joe\\anaconda3\\envs\\HUDK_4050_final_project\\lib\\site-packages\\ipykernel_launcher.py:4: SettingWithCopyWarning: \n",
      "A value is trying to be set on a copy of a slice from a DataFrame\n",
      "\n",
      "See the caveats in the documentation: https://pandas.pydata.org/pandas-docs/stable/user_guide/indexing.html#returning-a-view-versus-a-copy\n",
      "  after removing the cwd from sys.path.\n",
      "C:\\Users\\Joe\\anaconda3\\envs\\HUDK_4050_final_project\\lib\\site-packages\\ipykernel_launcher.py:5: SettingWithCopyWarning: \n",
      "A value is trying to be set on a copy of a slice from a DataFrame\n",
      "\n",
      "See the caveats in the documentation: https://pandas.pydata.org/pandas-docs/stable/user_guide/indexing.html#returning-a-view-versus-a-copy\n",
      "  \"\"\"\n",
      "C:\\Users\\Joe\\anaconda3\\envs\\HUDK_4050_final_project\\lib\\site-packages\\ipykernel_launcher.py:6: SettingWithCopyWarning: \n",
      "A value is trying to be set on a copy of a slice from a DataFrame\n",
      "\n",
      "See the caveats in the documentation: https://pandas.pydata.org/pandas-docs/stable/user_guide/indexing.html#returning-a-view-versus-a-copy\n",
      "  \n"
     ]
    }
   ],
   "source": [
    "# add hidden layer values to data frame\n",
    "for i in range(32):\n",
    "    Data['cs_mn_avg_cnn_h_' + str(i)] = np.zeros(shape = np.shape(ind))\n",
    "    Data['cs_mn_avg_cnn_h_' + str(i)][ind_train] = h_train_pred[:,i]\n",
    "    Data['cs_mn_avg_cnn_h_' + str(i)][ind_val] = h_val_pred[:,i]\n",
    "    Data['cs_mn_avg_cnn_h_' + str(i)][ind_test] = h_test_pred[:,i]"
   ]
  },
  {
   "cell_type": "code",
   "execution_count": 25,
   "metadata": {},
   "outputs": [
    {
     "data": {
      "text/html": [
       "<div>\n",
       "<style scoped>\n",
       "    .dataframe tbody tr th:only-of-type {\n",
       "        vertical-align: middle;\n",
       "    }\n",
       "\n",
       "    .dataframe tbody tr th {\n",
       "        vertical-align: top;\n",
       "    }\n",
       "\n",
       "    .dataframe thead th {\n",
       "        text-align: right;\n",
       "    }\n",
       "</style>\n",
       "<table border=\"1\" class=\"dataframe\">\n",
       "  <thead>\n",
       "    <tr style=\"text-align: right;\">\n",
       "      <th></th>\n",
       "      <th>school_code</th>\n",
       "      <th>lea_name</th>\n",
       "      <th>sch_name</th>\n",
       "      <th>street</th>\n",
       "      <th>city</th>\n",
       "      <th>state</th>\n",
       "      <th>zip</th>\n",
       "      <th>grade_low</th>\n",
       "      <th>grade_high</th>\n",
       "      <th>free_lunch</th>\n",
       "      <th>...</th>\n",
       "      <th>cs_mn_avg_cnn_h_22</th>\n",
       "      <th>cs_mn_avg_cnn_h_23</th>\n",
       "      <th>cs_mn_avg_cnn_h_24</th>\n",
       "      <th>cs_mn_avg_cnn_h_25</th>\n",
       "      <th>cs_mn_avg_cnn_h_26</th>\n",
       "      <th>cs_mn_avg_cnn_h_27</th>\n",
       "      <th>cs_mn_avg_cnn_h_28</th>\n",
       "      <th>cs_mn_avg_cnn_h_29</th>\n",
       "      <th>cs_mn_avg_cnn_h_30</th>\n",
       "      <th>cs_mn_avg_cnn_h_31</th>\n",
       "    </tr>\n",
       "  </thead>\n",
       "  <tbody>\n",
       "    <tr>\n",
       "      <th>0</th>\n",
       "      <td>10000500889</td>\n",
       "      <td>Albertville City</td>\n",
       "      <td>Albertville Elementary School</td>\n",
       "      <td>145 West End Drive</td>\n",
       "      <td>Albertville</td>\n",
       "      <td>AL</td>\n",
       "      <td>35950</td>\n",
       "      <td>3.0</td>\n",
       "      <td>4.0</td>\n",
       "      <td>663</td>\n",
       "      <td>...</td>\n",
       "      <td>0.0</td>\n",
       "      <td>0.0</td>\n",
       "      <td>0.0</td>\n",
       "      <td>0.0</td>\n",
       "      <td>0.000000</td>\n",
       "      <td>0.000000</td>\n",
       "      <td>0.0</td>\n",
       "      <td>0.000000</td>\n",
       "      <td>0.0</td>\n",
       "      <td>0.0</td>\n",
       "    </tr>\n",
       "    <tr>\n",
       "      <th>1</th>\n",
       "      <td>10000600877</td>\n",
       "      <td>Marshall County</td>\n",
       "      <td>Douglas Elementary School</td>\n",
       "      <td>Highway 75</td>\n",
       "      <td>Douglas</td>\n",
       "      <td>AL</td>\n",
       "      <td>35964</td>\n",
       "      <td>3.0</td>\n",
       "      <td>5.0</td>\n",
       "      <td>338</td>\n",
       "      <td>...</td>\n",
       "      <td>0.0</td>\n",
       "      <td>0.0</td>\n",
       "      <td>0.0</td>\n",
       "      <td>0.0</td>\n",
       "      <td>0.000000</td>\n",
       "      <td>0.000000</td>\n",
       "      <td>0.0</td>\n",
       "      <td>0.000000</td>\n",
       "      <td>0.0</td>\n",
       "      <td>0.0</td>\n",
       "    </tr>\n",
       "    <tr>\n",
       "      <th>2</th>\n",
       "      <td>10000600880</td>\n",
       "      <td>Marshall County</td>\n",
       "      <td>Brindlee Mountain Elementary School</td>\n",
       "      <td>2233 Shoal Creek Rd</td>\n",
       "      <td>Arab</td>\n",
       "      <td>AL</td>\n",
       "      <td>35016</td>\n",
       "      <td>3.0</td>\n",
       "      <td>5.0</td>\n",
       "      <td>133</td>\n",
       "      <td>...</td>\n",
       "      <td>0.0</td>\n",
       "      <td>0.0</td>\n",
       "      <td>0.0</td>\n",
       "      <td>0.0</td>\n",
       "      <td>0.781368</td>\n",
       "      <td>0.021429</td>\n",
       "      <td>0.0</td>\n",
       "      <td>0.013780</td>\n",
       "      <td>0.0</td>\n",
       "      <td>0.0</td>\n",
       "    </tr>\n",
       "    <tr>\n",
       "      <th>3</th>\n",
       "      <td>10000600887</td>\n",
       "      <td>Marshall County</td>\n",
       "      <td>Brindlee Mountain Primary School</td>\n",
       "      <td>1050 Scant City Road</td>\n",
       "      <td>Guntersville</td>\n",
       "      <td>AL</td>\n",
       "      <td>35976</td>\n",
       "      <td>NaN</td>\n",
       "      <td>2.0</td>\n",
       "      <td>149</td>\n",
       "      <td>...</td>\n",
       "      <td>0.0</td>\n",
       "      <td>0.0</td>\n",
       "      <td>0.0</td>\n",
       "      <td>0.0</td>\n",
       "      <td>0.000000</td>\n",
       "      <td>0.000000</td>\n",
       "      <td>0.0</td>\n",
       "      <td>1.535114</td>\n",
       "      <td>0.0</td>\n",
       "      <td>0.0</td>\n",
       "    </tr>\n",
       "    <tr>\n",
       "      <th>4</th>\n",
       "      <td>10000601685</td>\n",
       "      <td>Marshall County</td>\n",
       "      <td>Kate D Smith DAR Elementary School</td>\n",
       "      <td>6077 Main St</td>\n",
       "      <td>Grant</td>\n",
       "      <td>AL</td>\n",
       "      <td>35747</td>\n",
       "      <td>NaN</td>\n",
       "      <td>4.0</td>\n",
       "      <td>226</td>\n",
       "      <td>...</td>\n",
       "      <td>0.0</td>\n",
       "      <td>0.0</td>\n",
       "      <td>0.0</td>\n",
       "      <td>0.0</td>\n",
       "      <td>1.316931</td>\n",
       "      <td>0.000000</td>\n",
       "      <td>0.0</td>\n",
       "      <td>0.000000</td>\n",
       "      <td>0.0</td>\n",
       "      <td>0.0</td>\n",
       "    </tr>\n",
       "  </tbody>\n",
       "</table>\n",
       "<p>5 rows × 157 columns</p>\n",
       "</div>"
      ],
      "text/plain": [
       "   school_code          lea_name                             sch_name  \\\n",
       "0  10000500889  Albertville City        Albertville Elementary School   \n",
       "1  10000600877   Marshall County            Douglas Elementary School   \n",
       "2  10000600880   Marshall County  Brindlee Mountain Elementary School   \n",
       "3  10000600887   Marshall County     Brindlee Mountain Primary School   \n",
       "4  10000601685   Marshall County   Kate D Smith DAR Elementary School   \n",
       "\n",
       "                 street          city state    zip  grade_low  grade_high  \\\n",
       "0    145 West End Drive   Albertville    AL  35950        3.0         4.0   \n",
       "1            Highway 75       Douglas    AL  35964        3.0         5.0   \n",
       "2   2233 Shoal Creek Rd          Arab    AL  35016        3.0         5.0   \n",
       "3  1050 Scant City Road  Guntersville    AL  35976        NaN         2.0   \n",
       "4          6077 Main St         Grant    AL  35747        NaN         4.0   \n",
       "\n",
       "   free_lunch  ...  cs_mn_avg_cnn_h_22  cs_mn_avg_cnn_h_23  \\\n",
       "0         663  ...                 0.0                 0.0   \n",
       "1         338  ...                 0.0                 0.0   \n",
       "2         133  ...                 0.0                 0.0   \n",
       "3         149  ...                 0.0                 0.0   \n",
       "4         226  ...                 0.0                 0.0   \n",
       "\n",
       "   cs_mn_avg_cnn_h_24  cs_mn_avg_cnn_h_25  cs_mn_avg_cnn_h_26  \\\n",
       "0                 0.0                 0.0            0.000000   \n",
       "1                 0.0                 0.0            0.000000   \n",
       "2                 0.0                 0.0            0.781368   \n",
       "3                 0.0                 0.0            0.000000   \n",
       "4                 0.0                 0.0            1.316931   \n",
       "\n",
       "   cs_mn_avg_cnn_h_27  cs_mn_avg_cnn_h_28  cs_mn_avg_cnn_h_29  \\\n",
       "0            0.000000                 0.0            0.000000   \n",
       "1            0.000000                 0.0            0.000000   \n",
       "2            0.021429                 0.0            0.013780   \n",
       "3            0.000000                 0.0            1.535114   \n",
       "4            0.000000                 0.0            0.000000   \n",
       "\n",
       "   cs_mn_avg_cnn_h_30  cs_mn_avg_cnn_h_31  \n",
       "0                 0.0                 0.0  \n",
       "1                 0.0                 0.0  \n",
       "2                 0.0                 0.0  \n",
       "3                 0.0                 0.0  \n",
       "4                 0.0                 0.0  \n",
       "\n",
       "[5 rows x 157 columns]"
      ]
     },
     "execution_count": 25,
     "metadata": {},
     "output_type": "execute_result"
    }
   ],
   "source": [
    "Data.head()"
   ]
  },
  {
   "cell_type": "code",
   "execution_count": 27,
   "metadata": {},
   "outputs": [
    {
     "data": {
      "text/plain": [
       "['school_code',\n",
       " 'lea_name',\n",
       " 'sch_name',\n",
       " 'street',\n",
       " 'city',\n",
       " 'state',\n",
       " 'zip',\n",
       " 'grade_low',\n",
       " 'grade_high',\n",
       " 'free_lunch',\n",
       " 'cheap_lunch',\n",
       " 'pk',\n",
       " 'kg',\n",
       " 'g01',\n",
       " 'g02',\n",
       " 'g03',\n",
       " 'g04',\n",
       " 'g05',\n",
       " 'g06',\n",
       " 'g07',\n",
       " 'g08',\n",
       " 'g09',\n",
       " 'g10',\n",
       " 'g11',\n",
       " 'g12',\n",
       " 'total',\n",
       " 'native',\n",
       " 'hispanic',\n",
       " 'black',\n",
       " 'white',\n",
       " 'islander',\n",
       " 'two_or_more',\n",
       " 'num_teachers',\n",
       " 'lat',\n",
       " 'lon',\n",
       " 'locale_code',\n",
       " 'county',\n",
       " 'student_teacher_ratio',\n",
       " 'title_1_eligible',\n",
       " 'title_1',\n",
       " 'native_male',\n",
       " 'native_female',\n",
       " 'asian_male',\n",
       " 'asian_female',\n",
       " 'hispanic_male',\n",
       " 'hispanic_female',\n",
       " 'black_male',\n",
       " 'black_female',\n",
       " 'white_male',\n",
       " 'white_female',\n",
       " 'islander_male',\n",
       " 'islander_female',\n",
       " 'two_or_more_male',\n",
       " 'two_or_more_female',\n",
       " 'total_male',\n",
       " 'total_female',\n",
       " 'ungraded_students',\n",
       " 'adult_students',\n",
       " 'school_level',\n",
       " 'asian',\n",
       " 'urbanicity',\n",
       " 'locale',\n",
       " 'sch_sped',\n",
       " 'totenrl',\n",
       " 'perwht',\n",
       " 'pernam',\n",
       " 'perasn',\n",
       " 'perhsp',\n",
       " 'perblk',\n",
       " 'perfl',\n",
       " 'perrl',\n",
       " 'perfrl',\n",
       " 'perecd',\n",
       " 'gifted_tot',\n",
       " 'disab_tot',\n",
       " 'disab_tot_idea',\n",
       " 'lep',\n",
       " 'gifted_flag',\n",
       " 'lep_flag',\n",
       " 'sped_flag',\n",
       " 'spedidea_flag',\n",
       " 'avgrdall',\n",
       " 'gradecenter',\n",
       " 'gap',\n",
       " 'tot_asmts',\n",
       " 'cellcount',\n",
       " 'mn_asmts',\n",
       " 'cs_mn_avg_ol',\n",
       " 'cs_mn_coh_ol',\n",
       " 'cs_mn_grd_ol',\n",
       " 'cs_mn_mth_ol',\n",
       " 'cs_mn_avg_ol_se',\n",
       " 'cs_mn_coh_ol_se',\n",
       " 'cs_mn_grd_ol_se',\n",
       " 'cs_mn_mth_ol_se',\n",
       " 'cs_mn_avg_eb',\n",
       " 'cs_mn_coh_eb',\n",
       " 'cs_mn_grd_eb',\n",
       " 'cs_mn_mth_eb',\n",
       " 'cs_mn_avg_eb_se',\n",
       " 'cs_mn_coh_eb_se',\n",
       " 'cs_mn_grd_eb_se',\n",
       " 'cs_mn_mth_eb_se',\n",
       " 'gcs_mn_avg_ol',\n",
       " 'gcs_mn_coh_ol',\n",
       " 'gcs_mn_grd_ol',\n",
       " 'gcs_mn_mth_ol',\n",
       " 'gcs_mn_avg_ol_se',\n",
       " 'gcs_mn_coh_ol_se',\n",
       " 'gcs_mn_grd_ol_se',\n",
       " 'gcs_mn_mth_ol_se',\n",
       " 'gcs_mn_avg_eb',\n",
       " 'gcs_mn_coh_eb',\n",
       " 'gcs_mn_grd_eb',\n",
       " 'gcs_mn_mth_eb',\n",
       " 'gcs_mn_avg_eb_se',\n",
       " 'gcs_mn_coh_eb_se',\n",
       " 'gcs_mn_grd_eb_se',\n",
       " 'gcs_mn_mth_eb_se',\n",
       " 'ipr_est',\n",
       " 'ipr_se',\n",
       " 'ind_train',\n",
       " 'ind_val',\n",
       " 'ind_test',\n",
       " 'cs_mn_avg_cnn_pred',\n",
       " 'cs_mn_avg_cnn_h_0',\n",
       " 'cs_mn_avg_cnn_h_1',\n",
       " 'cs_mn_avg_cnn_h_2',\n",
       " 'cs_mn_avg_cnn_h_3',\n",
       " 'cs_mn_avg_cnn_h_4',\n",
       " 'cs_mn_avg_cnn_h_5',\n",
       " 'cs_mn_avg_cnn_h_6',\n",
       " 'cs_mn_avg_cnn_h_7',\n",
       " 'cs_mn_avg_cnn_h_8',\n",
       " 'cs_mn_avg_cnn_h_9',\n",
       " 'cs_mn_avg_cnn_h_10',\n",
       " 'cs_mn_avg_cnn_h_11',\n",
       " 'cs_mn_avg_cnn_h_12',\n",
       " 'cs_mn_avg_cnn_h_13',\n",
       " 'cs_mn_avg_cnn_h_14',\n",
       " 'cs_mn_avg_cnn_h_15',\n",
       " 'cs_mn_avg_cnn_h_16',\n",
       " 'cs_mn_avg_cnn_h_17',\n",
       " 'cs_mn_avg_cnn_h_18',\n",
       " 'cs_mn_avg_cnn_h_19',\n",
       " 'cs_mn_avg_cnn_h_20',\n",
       " 'cs_mn_avg_cnn_h_21',\n",
       " 'cs_mn_avg_cnn_h_22',\n",
       " 'cs_mn_avg_cnn_h_23',\n",
       " 'cs_mn_avg_cnn_h_24',\n",
       " 'cs_mn_avg_cnn_h_25',\n",
       " 'cs_mn_avg_cnn_h_26',\n",
       " 'cs_mn_avg_cnn_h_27',\n",
       " 'cs_mn_avg_cnn_h_28',\n",
       " 'cs_mn_avg_cnn_h_29',\n",
       " 'cs_mn_avg_cnn_h_30',\n",
       " 'cs_mn_avg_cnn_h_31']"
      ]
     },
     "execution_count": 27,
     "metadata": {},
     "output_type": "execute_result"
    }
   ],
   "source": [
    "list(Data.columns) "
   ]
  },
  {
   "cell_type": "code",
   "execution_count": 35,
   "metadata": {},
   "outputs": [],
   "source": [
    "# save data frame\n",
    "Data.to_csv('Data_Table_11_elementary_with_cnn.csv', encoding='utf-8', index=False)"
   ]
  },
  {
   "cell_type": "code",
   "execution_count": 39,
   "metadata": {},
   "outputs": [
    {
     "name": "stdout",
     "output_type": "stream",
     "text": [
      "[[1.         0.42572848]\n",
      " [0.42572848 1.        ]]\n",
      "0.18124474207011995\n"
     ]
    }
   ],
   "source": [
    "idx = Data['ind_train']==1\n",
    "idx = Data['ind_val']==1\n",
    "idx = Data['ind_test']==1\n",
    "\n",
    "R = np.corrcoef(Data['cs_mn_avg_ol'][idx], Data['cs_mn_avg_cnn_pred'][idx])\n",
    "print(R)\n",
    "print(R[0,1]*R[0,1])"
   ]
  },
  {
   "cell_type": "code",
   "execution_count": 36,
   "metadata": {},
   "outputs": [
    {
     "name": "stdout",
     "output_type": "stream",
     "text": [
      "[[1.         0.57206988]\n",
      " [0.57206988 1.        ]]\n",
      "0.3272639486306846\n"
     ]
    }
   ],
   "source": [
    "var1 = Data.perwht[ind_test]\n",
    "var2 = Data.cs_mn_avg_ol[ind_test]\n",
    "\n",
    "nanind = np.logical_or(np.isnan(var1),np.isnan(var2))\n",
    "\n",
    "R = np.corrcoef(var1[~nanind], var2[~nanind])\n",
    "print(R)\n",
    "print(R[0,1]*R[0,1])"
   ]
  },
  {
   "cell_type": "code",
   "execution_count": null,
   "metadata": {},
   "outputs": [],
   "source": []
  },
  {
   "cell_type": "code",
   "execution_count": null,
   "metadata": {},
   "outputs": [],
   "source": []
  },
  {
   "cell_type": "code",
   "execution_count": null,
   "metadata": {},
   "outputs": [],
   "source": []
  },
  {
   "cell_type": "code",
   "execution_count": null,
   "metadata": {},
   "outputs": [],
   "source": []
  },
  {
   "cell_type": "code",
   "execution_count": null,
   "metadata": {},
   "outputs": [],
   "source": []
  },
  {
   "cell_type": "code",
   "execution_count": null,
   "metadata": {},
   "outputs": [],
   "source": []
  },
  {
   "cell_type": "code",
   "execution_count": null,
   "metadata": {},
   "outputs": [],
   "source": []
  },
  {
   "cell_type": "code",
   "execution_count": null,
   "metadata": {},
   "outputs": [],
   "source": []
  },
  {
   "cell_type": "code",
   "execution_count": null,
   "metadata": {},
   "outputs": [],
   "source": []
  }
 ],
 "metadata": {
  "colab": {
   "provenance": []
  },
  "kernelspec": {
   "display_name": "Python 3 (ipykernel)",
   "language": "python",
   "name": "python3"
  },
  "language_info": {
   "codemirror_mode": {
    "name": "ipython",
    "version": 3
   },
   "file_extension": ".py",
   "mimetype": "text/x-python",
   "name": "python",
   "nbconvert_exporter": "python",
   "pygments_lexer": "ipython3",
   "version": "3.7.15"
  }
 },
 "nbformat": 4,
 "nbformat_minor": 1
}
