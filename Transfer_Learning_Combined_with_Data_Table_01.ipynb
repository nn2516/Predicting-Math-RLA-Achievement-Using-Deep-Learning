{
 "cells": [
  {
   "cell_type": "code",
   "execution_count": null,
   "metadata": {},
   "outputs": [],
   "source": [
    "# in this version, i will combine output of CNN regression models with the demographic data\n",
    "# CNN model I am currently using is:\n",
    "# \"elementary_227_227_zoom_16_regression_2022_12_31_hidden_32_relu.h5\"\n",
    "# from Transfer_Learning_final_project_06\n",
    "# Xception with 128 batch size, 100 epochs, 32 hidden tanh units\n",
    "# training MSE = 0.1398\n",
    "# validation MSE = 0.1423\n",
    "# testing R = 0.4257, R^2 = 0.1812\n"
   ]
  },
  {
   "cell_type": "code",
   "execution_count": 2,
   "metadata": {
    "id": "VeZBnn9VBVTy"
   },
   "outputs": [],
   "source": [
    "import tensorflow as tf\n",
    "from tensorflow import keras\n",
    "from tensorflow.keras import layers\n",
    "from keras.models import Sequential, load_model\n",
    "import keras_tuner\n",
    "import numpy as np\n",
    "import matplotlib.pyplot as plt\n",
    "import pandas as pd\n",
    "from fitter import Fitter, get_common_distributions, get_distributions\n",
    "import random"
   ]
  },
  {
   "cell_type": "code",
   "execution_count": 44,
   "metadata": {},
   "outputs": [],
   "source": [
    "# load csv\n",
    "Data = pd.read_csv(\"C:\\\\Users\\\\Joe\\\\Box\\\\Wesley\\\\Learning Analytics\\\\HUDK 4050\\\\Final\\\\Data\\\\Data_Table_11_elementary.csv\")\n",
    "N = np.shape(Data)[0]"
   ]
  },
  {
   "cell_type": "code",
   "execution_count": 11,
   "metadata": {},
   "outputs": [],
   "source": [
    "# load images\n",
    "folderpath = \"C:\\\\Users\\\\Joe\\\\Box\\\\Wesley\\\\Learning Analytics\\\\HUDK 4050\\\\Final\\\\Data\\\\google_maps_satellite_227_227_16_elementary\\\\\"\n",
    "img_height = 227\n",
    "img_width = 227\n",
    "Images = np.zeros(shape = (N, img_height, img_width, 3))\n",
    "TestScores = Data.cs_mn_avg_ol\n",
    "for i in range(N):\n",
    "    id = Data.school_code[i]\n",
    "    im = tf.keras.utils.load_img(folderpath + \"school_\" + str(id) + \".jpg\",\n",
    "                                 grayscale=False, color_mode=\"rgb\")\n",
    "    Images[i,:,:,:] = im"
   ]
  },
  {
   "cell_type": "code",
   "execution_count": 12,
   "metadata": {},
   "outputs": [
    {
     "name": "stdout",
     "output_type": "stream",
     "text": [
      "18939\n",
      "(14204, 227, 227, 3)\n",
      "(14204,)\n",
      "(2841, 227, 227, 3)\n",
      "(2841,)\n",
      "(1894, 227, 227, 3)\n",
      "(1894,)\n",
      "[14690  1444   351 18769  5916]\n"
     ]
    }
   ],
   "source": [
    "# load training, validation, testing indices\n",
    "data = np.load('elementary_227_227_zoom_16_regression_2022_12_31_hidden_32_relu_variables.npz')\n",
    "ind = data['ind']\n",
    "ind_train = data['ind_train']\n",
    "ind_val = data['ind_val']\n",
    "ind_test = data['ind_test']\n",
    "mse_train = data['mse_train']\n",
    "mse_val = data['mse_val']\n",
    "del data\n",
    "\n",
    "x_train = Images[ind_train,:,:,:]\n",
    "y_train = TestScores[ind_train]\n",
    "x_val = Images[ind_val,:,:,:]\n",
    "y_val = TestScores[ind_val]\n",
    "x_test = Images[ind_test,:,:,:]\n",
    "y_test = TestScores[ind_test]\n",
    "\n",
    "print(N)\n",
    "print(np.shape(x_train))\n",
    "print(np.shape(y_train))\n",
    "print(np.shape(x_val))\n",
    "print(np.shape(y_val))\n",
    "print(np.shape(x_test))\n",
    "print(np.shape(y_test))\n",
    "print(ind[0:5]) # should be [14690  1444   351 18769  5916]"
   ]
  },
  {
   "cell_type": "code",
   "execution_count": 16,
   "metadata": {},
   "outputs": [
    {
     "name": "stdout",
     "output_type": "stream",
     "text": [
      "WARNING:tensorflow:Using a while_loop for converting RngReadAndSkip\n",
      "WARNING:tensorflow:Using a while_loop for converting Bitcast\n",
      "WARNING:tensorflow:Using a while_loop for converting Bitcast\n",
      "WARNING:tensorflow:Using a while_loop for converting StatelessRandomUniformV2\n"
     ]
    }
   ],
   "source": [
    "# load model\n",
    "model = load_model('elementary_227_227_zoom_16_regression_2022_12_31_hidden_32_relu.h5')"
   ]
  },
  {
   "cell_type": "code",
   "execution_count": 24,
   "metadata": {},
   "outputs": [
    {
     "name": "stdout",
     "output_type": "stream",
     "text": [
      "Model: \"model\"\n",
      "_________________________________________________________________\n",
      " Layer (type)                Output Shape              Param #   \n",
      "=================================================================\n",
      " input_2 (InputLayer)        [(None, 227, 227, 3)]     0         \n",
      "                                                                 \n",
      " sequential (Sequential)     (None, 227, 227, 3)       0         \n",
      "                                                                 \n",
      " tf.math.truediv (TFOpLambda  (None, 227, 227, 3)      0         \n",
      " )                                                               \n",
      "                                                                 \n",
      " tf.math.subtract (TFOpLambd  (None, 227, 227, 3)      0         \n",
      " a)                                                              \n",
      "                                                                 \n",
      " xception (Functional)       (None, 7, 7, 2048)        20861480  \n",
      "                                                                 \n",
      " global_average_pooling2d (G  (None, 2048)             0         \n",
      " lobalAveragePooling2D)                                          \n",
      "                                                                 \n",
      " dropout (Dropout)           (None, 2048)              0         \n",
      "                                                                 \n",
      " dense (Dense)               (None, 32)                65568     \n",
      "                                                                 \n",
      " dropout_1 (Dropout)         (None, 32)                0         \n",
      "                                                                 \n",
      " dense_1 (Dense)             (None, 1)                 33        \n",
      "                                                                 \n",
      "=================================================================\n",
      "Total params: 20,927,081\n",
      "Trainable params: 65,601\n",
      "Non-trainable params: 20,861,480\n",
      "_________________________________________________________________\n",
      "None\n",
      "input_2\n",
      "sequential\n",
      "tf.math.truediv\n",
      "tf.math.subtract\n",
      "xception\n",
      "global_average_pooling2d\n",
      "dropout\n",
      "dense\n",
      "dropout_1\n",
      "dense_1\n"
     ]
    }
   ],
   "source": [
    "print(model.summary(0))\n",
    "\n",
    "for layer in model.layers:\n",
    "    print(layer.name)"
   ]
  },
  {
   "cell_type": "code",
   "execution_count": 2,
   "metadata": {},
   "outputs": [
    {
     "ename": "NameError",
     "evalue": "name 'keras' is not defined",
     "output_type": "error",
     "traceback": [
      "\u001b[1;31m---------------------------------------------------------------------------\u001b[0m",
      "\u001b[1;31mNameError\u001b[0m                                 Traceback (most recent call last)",
      "\u001b[1;32m~\\AppData\\Local\\Temp\\ipykernel_15528\\3758264704.py\u001b[0m in \u001b[0;36m<module>\u001b[1;34m\u001b[0m\n\u001b[0;32m      2\u001b[0m \u001b[0mlayer_name\u001b[0m \u001b[1;33m=\u001b[0m \u001b[1;34m'dense'\u001b[0m\u001b[1;33m\u001b[0m\u001b[1;33m\u001b[0m\u001b[0m\n\u001b[0;32m      3\u001b[0m \u001b[0mnum_hidden\u001b[0m \u001b[1;33m=\u001b[0m \u001b[1;36m32\u001b[0m\u001b[1;33m\u001b[0m\u001b[1;33m\u001b[0m\u001b[0m\n\u001b[1;32m----> 4\u001b[1;33m hidden_layer_model = keras.Model(inputs=model.input,\n\u001b[0m\u001b[0;32m      5\u001b[0m                                  outputs=model.get_layer(layer_name).output)\n\u001b[0;32m      6\u001b[0m \u001b[1;33m\u001b[0m\u001b[0m\n",
      "\u001b[1;31mNameError\u001b[0m: name 'keras' is not defined"
     ]
    }
   ],
   "source": [
    "# Get model predictions along with hidden layer outputs\n",
    "layer_name = 'dense'\n",
    "num_hidden = 32\n",
    "hidden_layer_model = keras.Model(inputs=model.input,\n",
    "                                 outputs=model.get_layer(layer_name).output)\n",
    "\n",
    "# training predictions\n",
    "y_train_pred = np.zeros(shape = (np.shape(x_train)[0]))\n",
    "h_train_pred = np.zeros(shape = (np.shape(x_train)[0],num_hidden))\n",
    "for i in range(np.shape(x_train)[0]):\n",
    "    im = x_train[i,:,:,:]\n",
    "    im = im[np.newaxis,:,:,:]\n",
    "    y_train_pred[i] = model.predict(im)\n",
    "    h_train_pred[i,:] = hidden_layer_model.predict(im)\n",
    "    \n",
    "# validation predictions\n",
    "y_val_pred = np.zeros(shape = (np.shape(x_val)[0]))\n",
    "h_val_pred = np.zeros(shape = (np.shape(x_val)[0],num_hidden))\n",
    "for i in range(np.shape(x_val)[0]):\n",
    "    im = x_val[i,:,:,:]\n",
    "    im = im[np.newaxis,:,:,:]\n",
    "    y_val_pred[i] = model.predict(im)\n",
    "    h_val_pred[i,:] = hidden_layer_model.predict(im)\n",
    "    \n",
    "# testing predictions\n",
    "y_test_pred = np.zeros(shape = (np.shape(x_test)[0]))\n",
    "h_test_pred = np.zeros(shape = (np.shape(x_test)[0],num_hidden))\n",
    "for i in range(np.shape(x_test)[0]):\n",
    "    im = x_test[i,:,:,:]\n",
    "    im = im[np.newaxis,:,:,:]\n",
    "    y_test_pred[i] = model.predict(im)\n",
    "    h_test_pred[i,:] = hidden_layer_model.predict(im)"
   ]
  },
  {
   "cell_type": "code",
   "execution_count": 43,
   "metadata": {},
   "outputs": [],
   "source": [
    "# saving predictions because they took a really long time\n",
    "np.savez('Transfer_Learning_Combined_with_Data_Table_01_predictions.npz',y_train_pred=y_train_pred,h_train_pred=h_train_pred,y_val_pred=y_val_pred,h_val_pred=h_val_pred,y_test_pred=y_test_pred,h_test_pred=h_test_pred)"
   ]
  },
  {
   "cell_type": "code",
   "execution_count": 72,
   "metadata": {},
   "outputs": [
    {
     "name": "stdout",
     "output_type": "stream",
     "text": [
      "[[1.         0.67474531]\n",
      " [0.67474531 1.        ]]\n",
      "0.45528122869616394\n"
     ]
    }
   ],
   "source": [
    "# var = Data.student_teacher_ratio\n",
    "# var = Data.perwht\n",
    "# var = Data.ipr_est\n",
    "\n",
    "nanind = np.isnan(var)\n",
    "\n",
    "R = np.corrcoef(TestScores[~nanind], var[~nanind])\n",
    "print(R)\n",
    "print(R[0,1]*R[0,1])"
   ]
  },
  {
   "cell_type": "code",
   "execution_count": 1,
   "metadata": {},
   "outputs": [
    {
     "ename": "NameError",
     "evalue": "name 'Data' is not defined",
     "output_type": "error",
     "traceback": [
      "\u001b[1;31m---------------------------------------------------------------------------\u001b[0m",
      "\u001b[1;31mNameError\u001b[0m                                 Traceback (most recent call last)",
      "\u001b[1;32m~\\AppData\\Local\\Temp\\ipykernel_15528\\1751167533.py\u001b[0m in \u001b[0;36m<module>\u001b[1;34m\u001b[0m\n\u001b[1;32m----> 1\u001b[1;33m \u001b[0mvar1\u001b[0m \u001b[1;33m=\u001b[0m \u001b[0mData\u001b[0m\u001b[1;33m.\u001b[0m\u001b[0mperwht\u001b[0m\u001b[1;33m[\u001b[0m\u001b[0mind_test\u001b[0m\u001b[1;33m]\u001b[0m\u001b[1;33m\u001b[0m\u001b[1;33m\u001b[0m\u001b[0m\n\u001b[0m\u001b[0;32m      2\u001b[0m \u001b[0mvar2\u001b[0m \u001b[1;33m=\u001b[0m \u001b[0mData\u001b[0m\u001b[1;33m.\u001b[0m\u001b[0mcs_mn_avg_ol\u001b[0m\u001b[1;33m[\u001b[0m\u001b[0mind_test\u001b[0m\u001b[1;33m]\u001b[0m\u001b[1;33m\u001b[0m\u001b[1;33m\u001b[0m\u001b[0m\n\u001b[0;32m      3\u001b[0m \u001b[1;33m\u001b[0m\u001b[0m\n\u001b[0;32m      4\u001b[0m \u001b[0mnanind\u001b[0m \u001b[1;33m=\u001b[0m \u001b[0mnp\u001b[0m\u001b[1;33m.\u001b[0m\u001b[0mlogical_or\u001b[0m\u001b[1;33m(\u001b[0m\u001b[0mnp\u001b[0m\u001b[1;33m.\u001b[0m\u001b[0misnan\u001b[0m\u001b[1;33m(\u001b[0m\u001b[0mvar1\u001b[0m\u001b[1;33m)\u001b[0m\u001b[1;33m,\u001b[0m\u001b[0mnp\u001b[0m\u001b[1;33m.\u001b[0m\u001b[0misnan\u001b[0m\u001b[1;33m(\u001b[0m\u001b[0mvar2\u001b[0m\u001b[1;33m)\u001b[0m\u001b[1;33m)\u001b[0m\u001b[1;33m\u001b[0m\u001b[1;33m\u001b[0m\u001b[0m\n\u001b[0;32m      5\u001b[0m \u001b[1;33m\u001b[0m\u001b[0m\n",
      "\u001b[1;31mNameError\u001b[0m: name 'Data' is not defined"
     ]
    }
   ],
   "source": [
    "var1 = Data.perwht[ind_test]\n",
    "var2 = Data.cs_mn_avg_ol[ind_test]\n",
    "\n",
    "nanind = np.logical_or(np.isnan(var1),np.isnan(var2))\n",
    "\n",
    "R = np.corrcoef(var1[~nanind], var2[~nanind])\n",
    "print(R)\n",
    "print(R[0,1]*R[0,1])"
   ]
  },
  {
   "cell_type": "code",
   "execution_count": null,
   "metadata": {},
   "outputs": [],
   "source": []
  },
  {
   "cell_type": "code",
   "execution_count": null,
   "metadata": {},
   "outputs": [],
   "source": []
  },
  {
   "cell_type": "code",
   "execution_count": null,
   "metadata": {},
   "outputs": [],
   "source": []
  },
  {
   "cell_type": "code",
   "execution_count": null,
   "metadata": {},
   "outputs": [],
   "source": []
  },
  {
   "cell_type": "code",
   "execution_count": null,
   "metadata": {},
   "outputs": [],
   "source": []
  },
  {
   "cell_type": "code",
   "execution_count": null,
   "metadata": {},
   "outputs": [],
   "source": []
  },
  {
   "cell_type": "code",
   "execution_count": null,
   "metadata": {},
   "outputs": [],
   "source": []
  },
  {
   "cell_type": "code",
   "execution_count": null,
   "metadata": {},
   "outputs": [],
   "source": [
    "R = np.corrcoef(y_test, y_pred)\n",
    "print(R)\n",
    "print(R[0,1]*R[0,1])\n",
    "\n",
    "plt.plot(y_test, y_pred, 'o', color='black');\n",
    "plt.xlim(-1.5, 1.5)\n",
    "plt.ylim(-1.5, 1.5)\n",
    "ax = plt.gca()\n",
    "ax.set_aspect('equal', adjustable='box')"
   ]
  },
  {
   "cell_type": "code",
   "execution_count": null,
   "metadata": {},
   "outputs": [],
   "source": []
  }
 ],
 "metadata": {
  "colab": {
   "provenance": []
  },
  "kernelspec": {
   "display_name": "Python 3 (ipykernel)",
   "language": "python",
   "name": "python3"
  },
  "language_info": {
   "codemirror_mode": {
    "name": "ipython",
    "version": 3
   },
   "file_extension": ".py",
   "mimetype": "text/x-python",
   "name": "python",
   "nbconvert_exporter": "python",
   "pygments_lexer": "ipython3",
   "version": "3.7.15"
  }
 },
 "nbformat": 4,
 "nbformat_minor": 1
}
